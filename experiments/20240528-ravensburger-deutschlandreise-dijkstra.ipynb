{
 "cells": [
  {
   "cell_type": "code",
   "id": "e4237afc",
   "metadata": {
    "ExecuteTime": {
     "end_time": "2024-09-30T18:43:13.495402Z",
     "start_time": "2024-09-30T18:43:13.489272Z"
    }
   },
   "source": [
    "import numpy as np\n",
    "from scipy.sparse import csr_matrix\n",
    "from scipy.sparse.csgraph import dijkstra\n",
    "\n",
    "# Loading list of vertices, generating ids and dictionaries for conversion\n",
    "\n",
    "with open(\"20230102-vertices.txt\", \"r\") as vertex_file:\n",
    "\n",
    "    vertex_lines = vertex_file.readlines()\n",
    "    \n",
    "vertex_counter = 0\n",
    "vertices = []\n",
    "dict_id_vertex = {}\n",
    "dict_vertex_id = {}\n",
    "\n",
    "for vertex_line in vertex_lines:\n",
    "        \n",
    "    vertex_line_stripped = vertex_line.rstrip()\n",
    "    vertices.append(vertex_line_stripped)\n",
    "    dict_id_vertex.update({str(vertex_counter): vertex_line_stripped})\n",
    "    dict_vertex_id.update({vertex_line_stripped: vertex_counter})\n",
    "    vertex_counter += 1\n",
    "        \n",
    "vertex_set = set(vertices)\n",
    "        \n",
    "# Loading and checking edges, building csr_matrix\n",
    "\n",
    "with open(\"20240528-edges.txt\", \"r\") as edge_file:\n",
    "\n",
    "    edges_raw = edge_file.readlines()\n",
    "    \n",
    "line_counter = 0\n",
    "empty_line_counter = 0\n",
    "comment_line_counter = 0\n",
    "edge_counter = 0\n",
    "invalid_line_counter = 0\n",
    "row = []\n",
    "col = []\n",
    "data = []    \n",
    "\n",
    "for edge_raw in edges_raw:\n",
    "        \n",
    "    edge_stripped = edge_raw.rstrip()\n",
    "    line_counter += 1\n",
    "    edge_pieces = edge_stripped.split(\",\")\n",
    "    \n",
    "        \n",
    "    if len(edge_pieces) == 1:\n",
    "            \n",
    "        if len(edge_stripped) == 0:\n",
    "            empty_line_counter += 1\n",
    "        elif edge_stripped[0] == \"#\":\n",
    "            comment_line_counter += 1\n",
    "        \n",
    "    elif len(edge_pieces) == 2:\n",
    "            \n",
    "        if edge_pieces[0] in vertex_set and edge_pieces[1] in vertex_set:\n",
    "            edge_counter += 1\n",
    "            row.append(dict_vertex_id[edge_pieces[0]])\n",
    "            col.append(dict_vertex_id[edge_pieces[1]])\n",
    "            data.append(1)\n",
    "        else:\n",
    "            invalid_line_counter += 1\n",
    "            print(\"LINE \" + str(line_counter) + \": INVALID DATA !!!\")\n",
    "    \n",
    "row =  np.array(row)\n",
    "col =  np.array(col)\n",
    "data = np.array(data)\n",
    "    \n",
    "edge_matrix = csr_matrix((data, (row, col)),\n",
    "                         shape=(len(vertices), len(vertices)))\n",
    "\n",
    "print(str(edge_matrix) + \"\\n\")\n",
    "\n",
    "print(\"Vertices: \" + str(len(vertices)))\n",
    "print(\"Lines read from edge file: \" + str(line_counter))\n",
    "print(\"Empty lines: \" + str(empty_line_counter))\n",
    "print(\"Comment lines: \" + str(comment_line_counter))\n",
    "print(\"Edges: \" + str(edge_counter))\n",
    "print(\"Invalid lines: \" + str(invalid_line_counter))"
   ],
   "outputs": [
    {
     "name": "stdout",
     "output_type": "stream",
     "text": [
      "<Compressed Sparse Row sparse matrix of dtype 'int64'\n",
      "\twith 533 stored elements and shape (204, 204)>\n",
      "  Coords\tValues\n",
      "  (0, 27)\t1\n",
      "  (0, 41)\t1\n",
      "  (0, 48)\t1\n",
      "  (0, 102)\t1\n",
      "  (0, 127)\t1\n",
      "  (0, 181)\t1\n",
      "  (1, 34)\t1\n",
      "  (1, 107)\t1\n",
      "  (2, 21)\t1\n",
      "  (2, 145)\t1\n",
      "  (2, 157)\t1\n",
      "  (3, 33)\t1\n",
      "  (3, 88)\t1\n",
      "  (3, 140)\t1\n",
      "  (3, 154)\t1\n",
      "  (4, 75)\t1\n",
      "  (4, 150)\t1\n",
      "  (5, 34)\t1\n",
      "  (5, 46)\t1\n",
      "  (5, 61)\t1\n",
      "  (5, 203)\t1\n",
      "  (6, 84)\t1\n",
      "  (6, 85)\t1\n",
      "  (6, 139)\t1\n",
      "  (6, 140)\t1\n",
      "  :\t:\n",
      "  (162, 183)\t1\n",
      "  (162, 196)\t1\n",
      "  (163, 176)\t1\n",
      "  (165, 166)\t1\n",
      "  (165, 178)\t1\n",
      "  (168, 200)\t1\n",
      "  (169, 175)\t1\n",
      "  (169, 191)\t1\n",
      "  (169, 193)\t1\n",
      "  (169, 195)\t1\n",
      "  (171, 172)\t1\n",
      "  (171, 182)\t1\n",
      "  (171, 186)\t1\n",
      "  (172, 186)\t1\n",
      "  (172, 187)\t1\n",
      "  (174, 198)\t1\n",
      "  (175, 193)\t1\n",
      "  (175, 195)\t1\n",
      "  (175, 196)\t1\n",
      "  (178, 182)\t1\n",
      "  (178, 184)\t1\n",
      "  (181, 194)\t1\n",
      "  (182, 186)\t1\n",
      "  (183, 185)\t1\n",
      "  (193, 195)\t1\n",
      "\n",
      "Vertices: 204\n",
      "Lines read from edge file: 776\n",
      "Empty lines: 203\n",
      "Comment lines: 40\n",
      "Edges: 533\n",
      "Invalid lines: 0\n"
     ]
    }
   ],
   "execution_count": 3
  },
  {
   "cell_type": "code",
   "id": "3a109239",
   "metadata": {
    "ExecuteTime": {
     "end_time": "2024-09-30T18:43:15.351558Z",
     "start_time": "2024-09-30T18:43:15.344061Z"
    }
   },
   "source": [
    "dist_matrix, predecessors = dijkstra(csgraph=edge_matrix,\n",
    "                                     directed=False , return_predecessors=True)\n",
    "\n",
    "print(str(dist_matrix) + \"\\n\")\n",
    "print(predecessors)"
   ],
   "outputs": [
    {
     "name": "stdout",
     "output_type": "stream",
     "text": [
      "[[ 0.  8. 10. ...  2. 10.  8.]\n",
      " [ 8.  0.  6. ...  7.  4.  3.]\n",
      " [10.  6.  0. ...  9.  8.  5.]\n",
      " ...\n",
      " [ 2.  7.  9. ...  0.  9.  7.]\n",
      " [10.  4.  8. ...  9.  0.  4.]\n",
      " [ 8.  3.  5. ...  7.  4.  0.]]\n",
      "\n",
      "[[-9999   107   157 ...   127    19   148]\n",
      " [  102 -9999   145 ...    25    19     5]\n",
      " [  102   107 -9999 ...    25    19   148]\n",
      " ...\n",
      " [  127   107   145 ... -9999    19   148]\n",
      " [  102   107   145 ...    25 -9999     5]\n",
      " [  102    34   145 ...    25    19 -9999]]\n"
     ]
    }
   ],
   "execution_count": 4
  },
  {
   "cell_type": "code",
   "id": "0bcae55f",
   "metadata": {
    "ExecuteTime": {
     "end_time": "2024-09-30T18:43:16.101174Z",
     "start_time": "2024-09-30T18:43:16.097916Z"
    }
   },
   "source": [
    "# Funktion route_dist zur Ermittlung der Knoten, über die\n",
    "# der kürzeste Weg zwischen Start- und Endknoten führt\n",
    "def route_dist (distances, predec, start_node, end_node):\n",
    "    # Initialisierung von distance und route\n",
    "    distance = int(0)\n",
    "    route = [end_node]\n",
    "    # Vom Zielknoten kommend wird der jeweilige Vorgänger-\n",
    "    # knoten an route angehängt, solange der Startknoten\n",
    "    # noch nicht erreicht ist\n",
    "    while route[-1] != start_node:\n",
    "        route.append(predec[start_node, route[-1]])\n",
    "        distance += distances[route[-1],route[-2]]\n",
    "    # Die Liste wird gedreht, damit die Knoten vom Start-\n",
    "    # knoten zum Zielknoten angeordnet sind\n",
    "    route.reverse()\n",
    "    # Rückgabe eines dict mit der Knotenabfolge des kür-\n",
    "    # zesten Wegs (route) und der zugehörigen Entfernung\n",
    "    # (distance)    \n",
    "    return {\"route\": route, \"distance\": distance}\n",
    "\n",
    "def build_vertex_list(route):\n",
    "    vertex_list = []\n",
    "    for id in route:\n",
    "        vertex_list.append(dict_id_vertex[str(id)])\n",
    "    return vertex_list"
   ],
   "outputs": [],
   "execution_count": 5
  },
  {
   "cell_type": "code",
   "id": "4b4f19e3",
   "metadata": {
    "ExecuteTime": {
     "end_time": "2024-09-30T18:43:17.016095Z",
     "start_time": "2024-09-30T18:43:17.012304Z"
    }
   },
   "source": [
    "result_dict = route_dist(dist_matrix, predecessors, dict_vertex_id[\"Singen\"], dict_vertex_id[\"Flensburg\"])\n",
    "\n",
    "build_vertex_list(result_dict[\"route\"])"
   ],
   "outputs": [
    {
     "data": {
      "text/plain": [
       "['Singen',\n",
       " 'Villingen-Schwenningen',\n",
       " 'Offenburg',\n",
       " 'Baden-Baden',\n",
       " 'Karlsruhe',\n",
       " 'Heidelberg',\n",
       " 'Darmstadt',\n",
       " 'Frankfurt am Main',\n",
       " 'Kassel',\n",
       " 'Goslar',\n",
       " 'Braunschweig',\n",
       " 'Hannover',\n",
       " 'Hamburg',\n",
       " 'Neumünster',\n",
       " 'Flensburg']"
      ]
     },
     "execution_count": 6,
     "metadata": {},
     "output_type": "execute_result"
    }
   ],
   "execution_count": 6
  },
  {
   "cell_type": "code",
   "id": "26c3ecd5",
   "metadata": {
    "ExecuteTime": {
     "end_time": "2024-09-30T18:43:17.499207Z",
     "start_time": "2024-09-30T18:43:17.496039Z"
    }
   },
   "source": [
    "result_dict = route_dist(dist_matrix, predecessors, dict_vertex_id[\"Kassel\"], dict_vertex_id[\"Chemnitz\"])\n",
    "\n",
    "build_vertex_list(result_dict[\"route\"])"
   ],
   "outputs": [
    {
     "data": {
      "text/plain": [
       "['Kassel', 'Nordhausen', 'Naumburg', 'Gera', 'Chemnitz']"
      ]
     },
     "execution_count": 7,
     "metadata": {},
     "output_type": "execute_result"
    }
   ],
   "execution_count": 7
  },
  {
   "cell_type": "code",
   "id": "6ee68a60",
   "metadata": {
    "ExecuteTime": {
     "end_time": "2024-09-30T18:43:18.354436Z",
     "start_time": "2024-09-30T18:43:18.351363Z"
    }
   },
   "source": [
    "result_dict = route_dist(dist_matrix, predecessors, dict_vertex_id[\"Schwäbisch Gmünd\"], dict_vertex_id[\"Wittstock\"])\n",
    "\n",
    "build_vertex_list(result_dict[\"route\"])"
   ],
   "outputs": [
    {
     "data": {
      "text/plain": [
       "['Schwäbisch Gmünd',\n",
       " 'Ansbach',\n",
       " 'Nürnberg',\n",
       " 'Bayreuth',\n",
       " 'Hof',\n",
       " 'Naumburg',\n",
       " 'Dessau-Roßlau',\n",
       " 'Berlin',\n",
       " 'Wittstock']"
      ]
     },
     "execution_count": 8,
     "metadata": {},
     "output_type": "execute_result"
    }
   ],
   "execution_count": 8
  },
  {
   "cell_type": "code",
   "id": "8f813871",
   "metadata": {
    "ExecuteTime": {
     "end_time": "2024-09-30T18:43:18.831270Z",
     "start_time": "2024-09-30T18:43:18.828173Z"
    }
   },
   "source": [
    "# Exploration 04/04/2023: Introductory problem\n",
    "\n",
    "result_dict = route_dist(dist_matrix, predecessors, dict_vertex_id[\"Stuttgart\"], dict_vertex_id[\"Nürnberg\"])\n",
    "\n",
    "build_vertex_list(result_dict[\"route\"])"
   ],
   "outputs": [
    {
     "data": {
      "text/plain": [
       "['Stuttgart', 'Schwäbisch Gmünd', 'Ansbach', 'Nürnberg']"
      ]
     },
     "execution_count": 9,
     "metadata": {},
     "output_type": "execute_result"
    }
   ],
   "execution_count": 9
  },
  {
   "cell_type": "code",
   "id": "2c85a58f",
   "metadata": {
    "ExecuteTime": {
     "end_time": "2024-09-30T18:43:19.407845Z",
     "start_time": "2024-09-30T18:43:19.405128Z"
    }
   },
   "source": [
    "# Exploration 04/04/2023: Simple problem A\n",
    "\n",
    "result_dict = route_dist(dist_matrix, predecessors, dict_vertex_id[\"Hof\"], dict_vertex_id[\"Passau\"])\n",
    "\n",
    "build_vertex_list(result_dict[\"route\"])"
   ],
   "outputs": [
    {
     "data": {
      "text/plain": [
       "['Hof', 'Cham', 'Passau']"
      ]
     },
     "execution_count": 10,
     "metadata": {},
     "output_type": "execute_result"
    }
   ],
   "execution_count": 10
  },
  {
   "cell_type": "code",
   "id": "a6ff4e27",
   "metadata": {
    "ExecuteTime": {
     "end_time": "2024-09-30T18:43:19.763982Z",
     "start_time": "2024-09-30T18:43:19.761036Z"
    }
   },
   "source": [
    "# Exploration 04/04/2023: Simple problem B\n",
    "\n",
    "result_dict = route_dist(dist_matrix, predecessors, dict_vertex_id[\"Heilbronn\"], dict_vertex_id[\"Nürnberg\"])\n",
    "\n",
    "build_vertex_list(result_dict[\"route\"])"
   ],
   "outputs": [
    {
     "data": {
      "text/plain": [
       "['Heilbronn', 'Ansbach', 'Nürnberg']"
      ]
     },
     "execution_count": 11,
     "metadata": {},
     "output_type": "execute_result"
    }
   ],
   "execution_count": 11
  },
  {
   "cell_type": "code",
   "id": "84e65bbe",
   "metadata": {
    "ExecuteTime": {
     "end_time": "2024-09-30T18:43:20.022759Z",
     "start_time": "2024-09-30T18:43:20.019682Z"
    }
   },
   "source": [
    "# Exploration 04/04/2023: Simple problem C\n",
    "\n",
    "result_dict = route_dist(dist_matrix, predecessors, dict_vertex_id[\"Singen\"], dict_vertex_id[\"Ravensburg\"])\n",
    "\n",
    "build_vertex_list(result_dict[\"route\"])"
   ],
   "outputs": [
    {
     "data": {
      "text/plain": [
       "['Singen', 'Sigmaringen', 'Ravensburg']"
      ]
     },
     "execution_count": 12,
     "metadata": {},
     "output_type": "execute_result"
    }
   ],
   "execution_count": 12
  },
  {
   "cell_type": "code",
   "id": "bf7c5758",
   "metadata": {
    "ExecuteTime": {
     "end_time": "2024-09-30T18:43:20.256112Z",
     "start_time": "2024-09-30T18:43:20.252812Z"
    }
   },
   "source": [
    "# Exploration 04/04/2023: Intermediate problem A\n",
    "\n",
    "result_dict = route_dist(dist_matrix, predecessors, dict_vertex_id[\"Mannheim\"], dict_vertex_id[\"Sigmaringen\"])\n",
    "\n",
    "build_vertex_list(result_dict[\"route\"])"
   ],
   "outputs": [
    {
     "data": {
      "text/plain": [
       "['Mannheim', 'Heilbronn', 'Stuttgart', 'Tübingen', 'Sigmaringen']"
      ]
     },
     "execution_count": 13,
     "metadata": {},
     "output_type": "execute_result"
    }
   ],
   "execution_count": 13
  },
  {
   "cell_type": "code",
   "id": "00df7d7c",
   "metadata": {
    "ExecuteTime": {
     "end_time": "2024-09-30T18:43:20.499707Z",
     "start_time": "2024-09-30T18:43:20.496330Z"
    }
   },
   "source": [
    "# Exploration 04/04/2023: Intermediate problem B\n",
    "\n",
    "result_dict = route_dist(dist_matrix, predecessors, dict_vertex_id[\"Stuttgart\"], dict_vertex_id[\"Amberg\"])\n",
    "\n",
    "build_vertex_list(result_dict[\"route\"])"
   ],
   "outputs": [
    {
     "data": {
      "text/plain": [
       "['Stuttgart', 'Schwäbisch Gmünd', 'Ansbach', 'Nürnberg', 'Amberg']"
      ]
     },
     "execution_count": 14,
     "metadata": {},
     "output_type": "execute_result"
    }
   ],
   "execution_count": 14
  },
  {
   "cell_type": "code",
   "id": "ad439eb8",
   "metadata": {
    "ExecuteTime": {
     "end_time": "2024-09-30T18:43:20.715840Z",
     "start_time": "2024-09-30T18:43:20.712832Z"
    }
   },
   "source": [
    "# Exploration 04/04/2023: Intermediate problem C\n",
    "\n",
    "result_dict = route_dist(dist_matrix, predecessors, dict_vertex_id[\"Augsburg\"], dict_vertex_id[\"Cham\"])\n",
    "\n",
    "build_vertex_list(result_dict[\"route\"])"
   ],
   "outputs": [
    {
     "data": {
      "text/plain": [
       "['Augsburg', 'München', 'Ingolstadt', 'Regensburg', 'Cham']"
      ]
     },
     "execution_count": 15,
     "metadata": {},
     "output_type": "execute_result"
    }
   ],
   "execution_count": 15
  },
  {
   "cell_type": "code",
   "id": "b8dd4a03",
   "metadata": {
    "ExecuteTime": {
     "end_time": "2024-09-30T18:43:20.903262Z",
     "start_time": "2024-09-30T18:43:20.900476Z"
    }
   },
   "source": [
    "# Exploration 04/04/2023: Advanced problem A\n",
    "\n",
    "result_dict = route_dist(dist_matrix, predecessors, dict_vertex_id[\"Freiburg\"], dict_vertex_id[\"Freising\"])\n",
    "\n",
    "build_vertex_list(result_dict[\"route\"])"
   ],
   "outputs": [
    {
     "data": {
      "text/plain": [
       "['Freiburg',\n",
       " 'Sigmaringen',\n",
       " 'Biberach',\n",
       " 'Memmingen',\n",
       " 'Landsberg',\n",
       " 'München',\n",
       " 'Freising']"
      ]
     },
     "execution_count": 16,
     "metadata": {},
     "output_type": "execute_result"
    }
   ],
   "execution_count": 16
  },
  {
   "cell_type": "code",
   "id": "6d611821",
   "metadata": {
    "ExecuteTime": {
     "end_time": "2024-09-30T18:43:21.109213Z",
     "start_time": "2024-09-30T18:43:21.106301Z"
    }
   },
   "source": [
    "# Exploration 04/04/2023: Advanced problem B\n",
    "\n",
    "result_dict = route_dist(dist_matrix, predecessors, dict_vertex_id[\"Karlsruhe\"], dict_vertex_id[\"Coburg\"])\n",
    "\n",
    "build_vertex_list(result_dict[\"route\"])"
   ],
   "outputs": [
    {
     "data": {
      "text/plain": [
       "['Karlsruhe',\n",
       " 'Heilbronn',\n",
       " 'Ansbach',\n",
       " 'Nürnberg',\n",
       " 'Erlangen',\n",
       " 'Bamberg',\n",
       " 'Coburg']"
      ]
     },
     "execution_count": 17,
     "metadata": {},
     "output_type": "execute_result"
    }
   ],
   "execution_count": 17
  },
  {
   "cell_type": "code",
   "id": "2d58f96b",
   "metadata": {
    "ExecuteTime": {
     "end_time": "2024-09-30T18:43:21.300369Z",
     "start_time": "2024-09-30T18:43:21.297037Z"
    }
   },
   "source": [
    "# Exploration 04/04/2023: Advanced problem C\n",
    "\n",
    "result_dict = route_dist(dist_matrix, predecessors, dict_vertex_id[\"Heidelberg\"], dict_vertex_id[\"Füssen\"])\n",
    "\n",
    "build_vertex_list(result_dict[\"route\"])"
   ],
   "outputs": [
    {
     "data": {
      "text/plain": [
       "['Heidelberg',\n",
       " 'Heilbronn',\n",
       " 'Heidenheim',\n",
       " 'Ulm',\n",
       " 'Memmingen',\n",
       " 'Kempten',\n",
       " 'Füssen']"
      ]
     },
     "execution_count": 18,
     "metadata": {},
     "output_type": "execute_result"
    }
   ],
   "execution_count": 18
  },
  {
   "cell_type": "code",
   "id": "4da418eb",
   "metadata": {
    "ExecuteTime": {
     "end_time": "2024-09-30T18:43:21.502185Z",
     "start_time": "2024-09-30T18:43:21.499089Z"
    }
   },
   "source": [
    "result_dict = route_dist(dist_matrix, predecessors, dict_vertex_id[\"Oldenburg\"], dict_vertex_id[\"Freiburg\"])\n",
    "\n",
    "build_vertex_list(result_dict[\"route\"])"
   ],
   "outputs": [
    {
     "data": {
      "text/plain": [
       "['Oldenburg',\n",
       " 'Cloppenburg',\n",
       " 'Osnabrück',\n",
       " 'Münster',\n",
       " 'Soest',\n",
       " 'Kassel',\n",
       " 'Frankfurt am Main',\n",
       " 'Darmstadt',\n",
       " 'Heidelberg',\n",
       " 'Karlsruhe',\n",
       " 'Baden-Baden',\n",
       " 'Offenburg',\n",
       " 'Freiburg']"
      ]
     },
     "execution_count": 19,
     "metadata": {},
     "output_type": "execute_result"
    }
   ],
   "execution_count": 19
  },
  {
   "cell_type": "code",
   "id": "cf4a0b22",
   "metadata": {
    "ExecuteTime": {
     "end_time": "2024-09-30T18:43:21.673653Z",
     "start_time": "2024-09-30T18:43:21.670565Z"
    }
   },
   "source": [
    "result_dict = route_dist(dist_matrix, predecessors, dict_vertex_id[\"Oldenburg\"], dict_vertex_id[\"Freiburg\"])\n",
    "\n",
    "build_vertex_list(result_dict[\"route\"])"
   ],
   "outputs": [
    {
     "data": {
      "text/plain": [
       "['Oldenburg',\n",
       " 'Cloppenburg',\n",
       " 'Osnabrück',\n",
       " 'Münster',\n",
       " 'Soest',\n",
       " 'Kassel',\n",
       " 'Frankfurt am Main',\n",
       " 'Darmstadt',\n",
       " 'Heidelberg',\n",
       " 'Karlsruhe',\n",
       " 'Baden-Baden',\n",
       " 'Offenburg',\n",
       " 'Freiburg']"
      ]
     },
     "execution_count": 20,
     "metadata": {},
     "output_type": "execute_result"
    }
   ],
   "execution_count": 20
  },
  {
   "cell_type": "code",
   "id": "afd1ead4",
   "metadata": {
    "ExecuteTime": {
     "end_time": "2024-09-30T18:43:21.868526Z",
     "start_time": "2024-09-30T18:43:21.865480Z"
    }
   },
   "source": [
    "result_dict = route_dist(dist_matrix, predecessors, dict_vertex_id[\"Ulm\"], dict_vertex_id[\"Rostock\"])\n",
    "\n",
    "build_vertex_list(result_dict[\"route\"])"
   ],
   "outputs": [
    {
     "data": {
      "text/plain": [
       "['Ulm',\n",
       " 'Heidenheim',\n",
       " 'Ansbach',\n",
       " 'Nürnberg',\n",
       " 'Bayreuth',\n",
       " 'Hof',\n",
       " 'Naumburg',\n",
       " 'Dessau-Roßlau',\n",
       " 'Berlin',\n",
       " 'Güstrow',\n",
       " 'Rostock']"
      ]
     },
     "execution_count": 21,
     "metadata": {},
     "output_type": "execute_result"
    }
   ],
   "execution_count": 21
  },
  {
   "cell_type": "code",
   "id": "db5646c7",
   "metadata": {
    "ExecuteTime": {
     "end_time": "2024-09-30T18:43:22.113328Z",
     "start_time": "2024-09-30T18:43:22.111496Z"
    }
   },
   "source": [],
   "outputs": [],
   "execution_count": null
  },
  {
   "metadata": {
    "ExecuteTime": {
     "end_time": "2024-09-30T18:43:22.273109Z",
     "start_time": "2024-09-30T18:43:22.271588Z"
    }
   },
   "cell_type": "code",
   "source": "",
   "id": "ef3546ca24d6a8fa",
   "outputs": [],
   "execution_count": null
  },
  {
   "metadata": {},
   "cell_type": "code",
   "outputs": [],
   "execution_count": null,
   "source": "",
   "id": "f4e5b8f08b78a501"
  }
 ],
 "metadata": {
  "kernelspec": {
   "display_name": "Python 3 (ipykernel)",
   "language": "python",
   "name": "python3"
  },
  "language_info": {
   "codemirror_mode": {
    "name": "ipython",
    "version": 3
   },
   "file_extension": ".py",
   "mimetype": "text/x-python",
   "name": "python",
   "nbconvert_exporter": "python",
   "pygments_lexer": "ipython3",
   "version": "3.11.2"
  }
 },
 "nbformat": 4,
 "nbformat_minor": 5
}
